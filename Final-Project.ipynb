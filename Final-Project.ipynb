{
 "cells": [
  {
   "cell_type": "markdown",
   "id": "a8202931-a47c-4173-b93c-5ab5b41896ac",
   "metadata": {},
   "source": [
    "# Using Pokemon statistics such as HP and Attack to predict evolutionary stage\n",
    "\n",
    "DSCI Final Project\n",
    "By Brady Bracken, Ally Davies, Eric Zhang, Louis Ryu\n",
    "\n",
    "## Introduction: \n",
    "Pokemon is an international video game franchise that has been popular for many years. The creatures found in the Pokemon games, called Pokemon, each have their own unique properties. There are 1032 unique Pokemon across all current games. They have basic definitions such as their Type, stats (HP, Attack, Special Attack, Defense, Special Defense, Speed), and whether or not they are a final evolution. \n",
    "\n",
    "We want to use classification to predict whether a pokemon is a final evolution or not using HP and Attack."
   ]
  },
  {
   "cell_type": "code",
   "execution_count": 19,
   "id": "77df4b27-6ad8-49a5-8236-4ddfcb45190a",
   "metadata": {
    "vscode": {
     "languageId": "r"
    }
   },
   "outputs": [],
   "source": [
    "### Run this cell before continuing. \n",
    "library(tidyverse)\n",
    "library(repr)\n",
    "library(tidymodels)\n",
    "options(repr.matrix.max.rows = 6)"
   ]
  },
  {
   "cell_type": "markdown",
   "id": "2bcfe91e-685d-495d-9b12-f21b35b5c73b",
   "metadata": {},
   "source": [
    "### Column Descriptions:\n",
    "\n",
    "Below, we have read our Pokemon dataset (Source: https://www.kaggle.com/datasets/maca11/all-pokemon-dataset/data) into R, selecting only the columns we deem important. \n",
    "\n",
    "Those being,\n",
    "\n",
    "- Name: Name of the Pokemon\n",
    "- Type 1: The Pokemon's Primary type (we won't include secondary types in this)\n",
    "- HP: The Pokemon's Base HP (Hit Points)\n",
    "- Att: The Pokemon's Base Attack\n",
    "- Def: The Pokemon's base defense\n",
    "- Spa: The Pokemon's Base special attack\n",
    "- Spd: The Pokemon's Base special defense\n",
    "- Spe: The Pokemon's Base speed\n",
    "- BST: The Total of the above 6 values, or Base Stat Total\n",
    "- Mean: The average of all Base Stats\n",
    "- Standard Deviation: Standard deviation of all base stats\n",
    "- Generation: Generation it was introduced\n",
    "- Final Evolution: 1 = Pokemon is a final evolution\n",
    "                 0 = Pokemon is not a final Evolution\n",
    "- Catch Rate: The catch rate, the higher the number, the harder it is to catch with a Poke Ball.\n",
    "- Legendary: 1 = Pokemon is a Legendary\n",
    "           0 = Pokemon is not a Legendary\n",
    "- Mega Evolution: 1 = Pokemon is a Mega Evolution\n",
    "                0 = Pokemon is not a Mega Evolution\n",
    "- Height: The Pokemon's height\n",
    "- Weight: The Pokemon's weight\n",
    "- BMI: The Pokemon's BMI"
   ]
  },
  {
   "cell_type": "markdown",
   "id": "abad2f7c-5da8-4afb-8485-66e887048916",
   "metadata": {},
   "source": [
    "### Predictive Question: \n",
    "**How accurately does using a Pokemon's HP and Attack predict whether a Pokemon is the Final Evolution or not?**"
   ]
  },
  {
   "cell_type": "code",
   "execution_count": 26,
   "id": "cb038886-fe49-4f55-9556-1975b6710d6f",
   "metadata": {
    "vscode": {
     "languageId": "r"
    }
   },
   "outputs": [],
   "source": [
    "## Run this cell first to download the database that we are interested in.\n",
    "url <- 'https://raw.githubusercontent.com/bradyb2005/dsci-100-group-6/main/data/All_Pokemon.csv'\n",
    "download.file(url, destfile = \"data/All_Pokemon.csv\")\n"
   ]
  },
  {
   "cell_type": "code",
   "execution_count": 28,
   "id": "4a7183eb-3e0b-4ba6-8c31-20ec9dc67ec3",
   "metadata": {
    "vscode": {
     "languageId": "r"
    }
   },
   "outputs": [
    {
     "name": "stderr",
     "output_type": "stream",
     "text": [
      "\u001b[1mRows: \u001b[22m\u001b[34m1032\u001b[39m \u001b[1mColumns: \u001b[22m\u001b[34m44\u001b[39m\n",
      "\u001b[36m──\u001b[39m \u001b[1mColumn specification\u001b[22m \u001b[36m────────────────────────────────────────────────────────\u001b[39m\n",
      "\u001b[1mDelimiter:\u001b[22m \",\"\n",
      "\u001b[31mchr\u001b[39m  (5): Name, Type 1, Type 2, Abilities, Experience type\n",
      "\u001b[32mdbl\u001b[39m (39): Number, HP, Att, Def, Spa, Spd, Spe, BST, Mean, Standard Deviation...\n",
      "\n",
      "\u001b[36mℹ\u001b[39m Use `spec()` to retrieve the full column specification for this data.\n",
      "\u001b[36mℹ\u001b[39m Specify the column types or set `show_col_types = FALSE` to quiet this message.\n"
     ]
    },
    {
     "data": {
      "text/html": [
       "<table class=\"dataframe\">\n",
       "<caption>A tibble: 1032 × 19</caption>\n",
       "<thead>\n",
       "\t<tr><th scope=col>Name</th><th scope=col>Type 1</th><th scope=col>HP</th><th scope=col>Att</th><th scope=col>Def</th><th scope=col>Spa</th><th scope=col>Spd</th><th scope=col>Spe</th><th scope=col>BST</th><th scope=col>Mean</th><th scope=col>Standard Deviation</th><th scope=col>Generation</th><th scope=col>Final Evolution</th><th scope=col>Catch Rate</th><th scope=col>Legendary</th><th scope=col>Mega Evolution</th><th scope=col>Height</th><th scope=col>Weight</th><th scope=col>BMI</th></tr>\n",
       "\t<tr><th scope=col>&lt;chr&gt;</th><th scope=col>&lt;chr&gt;</th><th scope=col>&lt;dbl&gt;</th><th scope=col>&lt;dbl&gt;</th><th scope=col>&lt;dbl&gt;</th><th scope=col>&lt;dbl&gt;</th><th scope=col>&lt;dbl&gt;</th><th scope=col>&lt;dbl&gt;</th><th scope=col>&lt;dbl&gt;</th><th scope=col>&lt;dbl&gt;</th><th scope=col>&lt;dbl&gt;</th><th scope=col>&lt;dbl&gt;</th><th scope=col>&lt;dbl&gt;</th><th scope=col>&lt;dbl&gt;</th><th scope=col>&lt;dbl&gt;</th><th scope=col>&lt;dbl&gt;</th><th scope=col>&lt;dbl&gt;</th><th scope=col>&lt;dbl&gt;</th><th scope=col>&lt;dbl&gt;</th></tr>\n",
       "</thead>\n",
       "<tbody>\n",
       "\t<tr><td>Bulbasaur</td><td>Grass</td><td>45</td><td>49</td><td>49</td><td> 65</td><td> 65</td><td>45</td><td>318</td><td>53.0</td><td>8.640988</td><td>1</td><td>0</td><td>45</td><td>0</td><td>0</td><td>0.7</td><td>  6.9</td><td>14.1</td></tr>\n",
       "\t<tr><td>Ivysaur  </td><td>Grass</td><td>60</td><td>62</td><td>63</td><td> 80</td><td> 80</td><td>60</td><td>405</td><td>67.5</td><td>8.902247</td><td>1</td><td>0</td><td>45</td><td>0</td><td>0</td><td>1.0</td><td> 13.0</td><td>13.0</td></tr>\n",
       "\t<tr><td>Venusaur </td><td>Grass</td><td>80</td><td>82</td><td>83</td><td>100</td><td>100</td><td>80</td><td>525</td><td>87.5</td><td>8.902247</td><td>1</td><td>1</td><td>45</td><td>0</td><td>0</td><td>2.0</td><td>100.0</td><td>25.0</td></tr>\n",
       "\t<tr><td>⋮</td><td>⋮</td><td>⋮</td><td>⋮</td><td>⋮</td><td>⋮</td><td>⋮</td><td>⋮</td><td>⋮</td><td>⋮</td><td>⋮</td><td>⋮</td><td>⋮</td><td>⋮</td><td>⋮</td><td>⋮</td><td>⋮</td><td>⋮</td><td>⋮</td></tr>\n",
       "\t<tr><td>Calyrex             </td><td>Psychic</td><td>100</td><td> 80</td><td> 80</td><td> 80</td><td> 80</td><td> 80</td><td>500</td><td> 83.33333</td><td> 7.45356</td><td>8</td><td>1</td><td>3</td><td>1</td><td>0</td><td>1.1</td><td>  7.7</td><td>  6.4</td></tr>\n",
       "\t<tr><td>Calyrex Ice Rider   </td><td>Psychic</td><td>100</td><td>165</td><td>150</td><td> 85</td><td>130</td><td> 50</td><td>680</td><td>113.33333</td><td>39.33475</td><td>8</td><td>1</td><td>3</td><td>1</td><td>0</td><td>2.4</td><td>809.1</td><td>140.5</td></tr>\n",
       "\t<tr><td>Calyrex Shadow Rider</td><td>Psychic</td><td>100</td><td> 85</td><td> 80</td><td>165</td><td>100</td><td>150</td><td>680</td><td>113.33333</td><td>32.36081</td><td>8</td><td>1</td><td>3</td><td>1</td><td>0</td><td>2.4</td><td> 53.6</td><td>  9.3</td></tr>\n",
       "</tbody>\n",
       "</table>\n"
      ],
      "text/latex": [
       "A tibble: 1032 × 19\n",
       "\\begin{tabular}{lllllllllllllllllll}\n",
       " Name & Type 1 & HP & Att & Def & Spa & Spd & Spe & BST & Mean & Standard Deviation & Generation & Final Evolution & Catch Rate & Legendary & Mega Evolution & Height & Weight & BMI\\\\\n",
       " <chr> & <chr> & <dbl> & <dbl> & <dbl> & <dbl> & <dbl> & <dbl> & <dbl> & <dbl> & <dbl> & <dbl> & <dbl> & <dbl> & <dbl> & <dbl> & <dbl> & <dbl> & <dbl>\\\\\n",
       "\\hline\n",
       "\t Bulbasaur & Grass & 45 & 49 & 49 &  65 &  65 & 45 & 318 & 53.0 & 8.640988 & 1 & 0 & 45 & 0 & 0 & 0.7 &   6.9 & 14.1\\\\\n",
       "\t Ivysaur   & Grass & 60 & 62 & 63 &  80 &  80 & 60 & 405 & 67.5 & 8.902247 & 1 & 0 & 45 & 0 & 0 & 1.0 &  13.0 & 13.0\\\\\n",
       "\t Venusaur  & Grass & 80 & 82 & 83 & 100 & 100 & 80 & 525 & 87.5 & 8.902247 & 1 & 1 & 45 & 0 & 0 & 2.0 & 100.0 & 25.0\\\\\n",
       "\t ⋮ & ⋮ & ⋮ & ⋮ & ⋮ & ⋮ & ⋮ & ⋮ & ⋮ & ⋮ & ⋮ & ⋮ & ⋮ & ⋮ & ⋮ & ⋮ & ⋮ & ⋮ & ⋮\\\\\n",
       "\t Calyrex              & Psychic & 100 &  80 &  80 &  80 &  80 &  80 & 500 &  83.33333 &  7.45356 & 8 & 1 & 3 & 1 & 0 & 1.1 &   7.7 &   6.4\\\\\n",
       "\t Calyrex Ice Rider    & Psychic & 100 & 165 & 150 &  85 & 130 &  50 & 680 & 113.33333 & 39.33475 & 8 & 1 & 3 & 1 & 0 & 2.4 & 809.1 & 140.5\\\\\n",
       "\t Calyrex Shadow Rider & Psychic & 100 &  85 &  80 & 165 & 100 & 150 & 680 & 113.33333 & 32.36081 & 8 & 1 & 3 & 1 & 0 & 2.4 &  53.6 &   9.3\\\\\n",
       "\\end{tabular}\n"
      ],
      "text/markdown": [
       "\n",
       "A tibble: 1032 × 19\n",
       "\n",
       "| Name &lt;chr&gt; | Type 1 &lt;chr&gt; | HP &lt;dbl&gt; | Att &lt;dbl&gt; | Def &lt;dbl&gt; | Spa &lt;dbl&gt; | Spd &lt;dbl&gt; | Spe &lt;dbl&gt; | BST &lt;dbl&gt; | Mean &lt;dbl&gt; | Standard Deviation &lt;dbl&gt; | Generation &lt;dbl&gt; | Final Evolution &lt;dbl&gt; | Catch Rate &lt;dbl&gt; | Legendary &lt;dbl&gt; | Mega Evolution &lt;dbl&gt; | Height &lt;dbl&gt; | Weight &lt;dbl&gt; | BMI &lt;dbl&gt; |\n",
       "|---|---|---|---|---|---|---|---|---|---|---|---|---|---|---|---|---|---|---|\n",
       "| Bulbasaur | Grass | 45 | 49 | 49 |  65 |  65 | 45 | 318 | 53.0 | 8.640988 | 1 | 0 | 45 | 0 | 0 | 0.7 |   6.9 | 14.1 |\n",
       "| Ivysaur   | Grass | 60 | 62 | 63 |  80 |  80 | 60 | 405 | 67.5 | 8.902247 | 1 | 0 | 45 | 0 | 0 | 1.0 |  13.0 | 13.0 |\n",
       "| Venusaur  | Grass | 80 | 82 | 83 | 100 | 100 | 80 | 525 | 87.5 | 8.902247 | 1 | 1 | 45 | 0 | 0 | 2.0 | 100.0 | 25.0 |\n",
       "| ⋮ | ⋮ | ⋮ | ⋮ | ⋮ | ⋮ | ⋮ | ⋮ | ⋮ | ⋮ | ⋮ | ⋮ | ⋮ | ⋮ | ⋮ | ⋮ | ⋮ | ⋮ | ⋮ |\n",
       "| Calyrex              | Psychic | 100 |  80 |  80 |  80 |  80 |  80 | 500 |  83.33333 |  7.45356 | 8 | 1 | 3 | 1 | 0 | 1.1 |   7.7 |   6.4 |\n",
       "| Calyrex Ice Rider    | Psychic | 100 | 165 | 150 |  85 | 130 |  50 | 680 | 113.33333 | 39.33475 | 8 | 1 | 3 | 1 | 0 | 2.4 | 809.1 | 140.5 |\n",
       "| Calyrex Shadow Rider | Psychic | 100 |  85 |  80 | 165 | 100 | 150 | 680 | 113.33333 | 32.36081 | 8 | 1 | 3 | 1 | 0 | 2.4 |  53.6 |   9.3 |\n",
       "\n"
      ],
      "text/plain": [
       "     Name                 Type 1  HP  Att Def Spa Spd Spe BST Mean     \n",
       "1    Bulbasaur            Grass   45  49  49   65  65 45  318 53.0     \n",
       "2    Ivysaur              Grass   60  62  63   80  80 60  405 67.5     \n",
       "3    Venusaur             Grass   80  82  83  100 100 80  525 87.5     \n",
       "⋮    ⋮                    ⋮       ⋮   ⋮   ⋮   ⋮   ⋮   ⋮   ⋮   ⋮        \n",
       "1030 Calyrex              Psychic 100  80  80  80  80  80 500  83.33333\n",
       "1031 Calyrex Ice Rider    Psychic 100 165 150  85 130  50 680 113.33333\n",
       "1032 Calyrex Shadow Rider Psychic 100  85  80 165 100 150 680 113.33333\n",
       "     Standard Deviation Generation Final Evolution Catch Rate Legendary\n",
       "1    8.640988           1          0               45         0        \n",
       "2    8.902247           1          0               45         0        \n",
       "3    8.902247           1          1               45         0        \n",
       "⋮    ⋮                  ⋮          ⋮               ⋮          ⋮        \n",
       "1030  7.45356           8          1               3          1        \n",
       "1031 39.33475           8          1               3          1        \n",
       "1032 32.36081           8          1               3          1        \n",
       "     Mega Evolution Height Weight BMI  \n",
       "1    0              0.7      6.9  14.1 \n",
       "2    0              1.0     13.0  13.0 \n",
       "3    0              2.0    100.0  25.0 \n",
       "⋮    ⋮              ⋮      ⋮      ⋮    \n",
       "1030 0              1.1      7.7    6.4\n",
       "1031 0              2.4    809.1  140.5\n",
       "1032 0              2.4     53.6    9.3"
      ]
     },
     "metadata": {},
     "output_type": "display_data"
    }
   ],
   "source": [
    "## Run this cell to view the data, using only the variables listed above.\n",
    "## We may not use all of this data, however we have listed all variables that may be useful.\n",
    "## Table is ordered by the Pokemon's order of appearance (eg. Pokedex number)\n",
    "pokemon_data <- read_csv(\"data/All_Pokemon.csv\")\n",
    "pokemon_data_selected <- select(pokemon_data, Name, `Type 1`, HP, Att, Def, Spa, Spd, Spe, BST, Mean,  `Standard Deviation`,\n",
    "                                Generation, `Final Evolution`,  `Catch Rate`, Legendary, `Mega Evolution`, Height, Weight, BMI)\n",
    "pokemon_data_selected\n",
    "## Note: All data is already correctly wrangled and cleaned."
   ]
  },
  {
   "cell_type": "markdown",
   "id": "bdb13b9d-9e25-42cd-a41f-b95d0e88a6c3",
   "metadata": {},
   "source": [
    "Below here we selected the 'Name' 'Type 1' 'HP' 'Attack' and 'Final Evolution' columns since we are focusing on them. After that we scale and center 'HP' and 'Attack' variables of the pokemon dataset and save them as columns in our data table."
   ]
  },
  {
   "cell_type": "code",
   "execution_count": 29,
   "id": "81544752-57df-42c1-ab89-691e64bce9ee",
   "metadata": {
    "vscode": {
     "languageId": "r"
    }
   },
   "outputs": [
    {
     "data": {
      "text/html": [
       "<table class=\"dataframe\">\n",
       "<caption>A tibble: 1032 × 7</caption>\n",
       "<thead>\n",
       "\t<tr><th scope=col>Name</th><th scope=col>Type 1</th><th scope=col>HP</th><th scope=col>Att</th><th scope=col>Final Evolution</th><th scope=col>scaled_HP</th><th scope=col>scaled_Att</th></tr>\n",
       "\t<tr><th scope=col>&lt;chr&gt;</th><th scope=col>&lt;chr&gt;</th><th scope=col>&lt;dbl&gt;</th><th scope=col>&lt;dbl&gt;</th><th scope=col>&lt;dbl&gt;</th><th scope=col>&lt;dbl[,1]&gt;</th><th scope=col>&lt;dbl[,1]&gt;</th></tr>\n",
       "</thead>\n",
       "<tbody>\n",
       "\t<tr><td>Bulbasaur</td><td>Grass</td><td>45</td><td>49</td><td>0</td><td>-0.9510046</td><td>-0.96877268</td></tr>\n",
       "\t<tr><td>Ivysaur  </td><td>Grass</td><td>60</td><td>62</td><td>0</td><td>-0.3782485</td><td>-0.56929352</td></tr>\n",
       "\t<tr><td>Venusaur </td><td>Grass</td><td>80</td><td>82</td><td>1</td><td> 0.3854264</td><td> 0.04528979</td></tr>\n",
       "\t<tr><td>⋮</td><td>⋮</td><td>⋮</td><td>⋮</td><td>⋮</td><td>⋮</td><td>⋮</td></tr>\n",
       "\t<tr><td>Calyrex             </td><td>Psychic</td><td>100</td><td> 80</td><td>1</td><td>1.149101</td><td>-0.01616854</td></tr>\n",
       "\t<tr><td>Calyrex Ice Rider   </td><td>Psychic</td><td>100</td><td>165</td><td>1</td><td>1.149101</td><td> 2.59581053</td></tr>\n",
       "\t<tr><td>Calyrex Shadow Rider</td><td>Psychic</td><td>100</td><td> 85</td><td>1</td><td>1.149101</td><td> 0.13747728</td></tr>\n",
       "</tbody>\n",
       "</table>\n"
      ],
      "text/latex": [
       "A tibble: 1032 × 7\n",
       "\\begin{tabular}{lllllll}\n",
       " Name & Type 1 & HP & Att & Final Evolution & scaled\\_HP & scaled\\_Att\\\\\n",
       " <chr> & <chr> & <dbl> & <dbl> & <dbl> & <dbl{[},1{]}> & <dbl{[},1{]}>\\\\\n",
       "\\hline\n",
       "\t Bulbasaur & Grass & 45 & 49 & 0 & -0.9510046 & -0.96877268\\\\\n",
       "\t Ivysaur   & Grass & 60 & 62 & 0 & -0.3782485 & -0.56929352\\\\\n",
       "\t Venusaur  & Grass & 80 & 82 & 1 &  0.3854264 &  0.04528979\\\\\n",
       "\t ⋮ & ⋮ & ⋮ & ⋮ & ⋮ & ⋮ & ⋮\\\\\n",
       "\t Calyrex              & Psychic & 100 &  80 & 1 & 1.149101 & -0.01616854\\\\\n",
       "\t Calyrex Ice Rider    & Psychic & 100 & 165 & 1 & 1.149101 &  2.59581053\\\\\n",
       "\t Calyrex Shadow Rider & Psychic & 100 &  85 & 1 & 1.149101 &  0.13747728\\\\\n",
       "\\end{tabular}\n"
      ],
      "text/markdown": [
       "\n",
       "A tibble: 1032 × 7\n",
       "\n",
       "| Name &lt;chr&gt; | Type 1 &lt;chr&gt; | HP &lt;dbl&gt; | Att &lt;dbl&gt; | Final Evolution &lt;dbl&gt; | scaled_HP &lt;dbl[,1]&gt; | scaled_Att &lt;dbl[,1]&gt; |\n",
       "|---|---|---|---|---|---|---|\n",
       "| Bulbasaur | Grass | 45 | 49 | 0 | -0.9510046 | -0.96877268 |\n",
       "| Ivysaur   | Grass | 60 | 62 | 0 | -0.3782485 | -0.56929352 |\n",
       "| Venusaur  | Grass | 80 | 82 | 1 |  0.3854264 |  0.04528979 |\n",
       "| ⋮ | ⋮ | ⋮ | ⋮ | ⋮ | ⋮ | ⋮ |\n",
       "| Calyrex              | Psychic | 100 |  80 | 1 | 1.149101 | -0.01616854 |\n",
       "| Calyrex Ice Rider    | Psychic | 100 | 165 | 1 | 1.149101 |  2.59581053 |\n",
       "| Calyrex Shadow Rider | Psychic | 100 |  85 | 1 | 1.149101 |  0.13747728 |\n",
       "\n"
      ],
      "text/plain": [
       "     Name                 Type 1  HP  Att Final Evolution scaled_HP \n",
       "1    Bulbasaur            Grass   45  49  0               -0.9510046\n",
       "2    Ivysaur              Grass   60  62  0               -0.3782485\n",
       "3    Venusaur             Grass   80  82  1                0.3854264\n",
       "⋮    ⋮                    ⋮       ⋮   ⋮   ⋮               ⋮         \n",
       "1030 Calyrex              Psychic 100  80 1               1.149101  \n",
       "1031 Calyrex Ice Rider    Psychic 100 165 1               1.149101  \n",
       "1032 Calyrex Shadow Rider Psychic 100  85 1               1.149101  \n",
       "     scaled_Att \n",
       "1    -0.96877268\n",
       "2    -0.56929352\n",
       "3     0.04528979\n",
       "⋮    ⋮          \n",
       "1030 -0.01616854\n",
       "1031  2.59581053\n",
       "1032  0.13747728"
      ]
     },
     "metadata": {},
     "output_type": "display_data"
    }
   ],
   "source": [
    "## When running this cell, we view the columns that we will be using for this report. \n",
    "## We also scale the HP and Attack variables.\n",
    "question_data <- select(pokemon_data, Name, `Type 1`, HP, Att, `Final Evolution`) |> \n",
    "mutate(scaled_HP = scale(HP, center = TRUE),\n",
    "       scaled_Att = scale(Att, center = TRUE))\n",
    "question_data"
   ]
  },
  {
   "cell_type": "code",
   "execution_count": 32,
   "id": "fa3c5f34-efec-4706-a398-91c3f237d4d1",
   "metadata": {
    "vscode": {
     "languageId": "r"
    }
   },
   "outputs": [
    {
     "data": {
      "text/html": [
       "<table class=\"dataframe\">\n",
       "<caption>A tibble: 773 × 7</caption>\n",
       "<thead>\n",
       "\t<tr><th scope=col>Name</th><th scope=col>Type 1</th><th scope=col>HP</th><th scope=col>Att</th><th scope=col>Final Evolution</th><th scope=col>scaled_HP</th><th scope=col>scaled_Att</th></tr>\n",
       "\t<tr><th scope=col>&lt;chr&gt;</th><th scope=col>&lt;chr&gt;</th><th scope=col>&lt;dbl&gt;</th><th scope=col>&lt;dbl&gt;</th><th scope=col>&lt;dbl&gt;</th><th scope=col>&lt;dbl[,1]&gt;</th><th scope=col>&lt;dbl[,1]&gt;</th></tr>\n",
       "</thead>\n",
       "<tbody>\n",
       "\t<tr><td>Bulbasaur </td><td>Grass</td><td>45</td><td>49</td><td>0</td><td>-0.9510046</td><td>-0.9687727</td></tr>\n",
       "\t<tr><td>Ivysaur   </td><td>Grass</td><td>60</td><td>62</td><td>0</td><td>-0.3782485</td><td>-0.5692935</td></tr>\n",
       "\t<tr><td>Charmander</td><td>Fire </td><td>39</td><td>52</td><td>0</td><td>-1.1801071</td><td>-0.8765852</td></tr>\n",
       "\t<tr><td>⋮</td><td>⋮</td><td>⋮</td><td>⋮</td><td>⋮</td><td>⋮</td><td>⋮</td></tr>\n",
       "\t<tr><td>Spectrier           </td><td>Ghost  </td><td>100</td><td>65</td><td>1</td><td>1.149101</td><td>-0.47710603</td></tr>\n",
       "\t<tr><td>Calyrex             </td><td>Psychic</td><td>100</td><td>80</td><td>1</td><td>1.149101</td><td>-0.01616854</td></tr>\n",
       "\t<tr><td>Calyrex Shadow Rider</td><td>Psychic</td><td>100</td><td>85</td><td>1</td><td>1.149101</td><td> 0.13747728</td></tr>\n",
       "</tbody>\n",
       "</table>\n"
      ],
      "text/latex": [
       "A tibble: 773 × 7\n",
       "\\begin{tabular}{lllllll}\n",
       " Name & Type 1 & HP & Att & Final Evolution & scaled\\_HP & scaled\\_Att\\\\\n",
       " <chr> & <chr> & <dbl> & <dbl> & <dbl> & <dbl{[},1{]}> & <dbl{[},1{]}>\\\\\n",
       "\\hline\n",
       "\t Bulbasaur  & Grass & 45 & 49 & 0 & -0.9510046 & -0.9687727\\\\\n",
       "\t Ivysaur    & Grass & 60 & 62 & 0 & -0.3782485 & -0.5692935\\\\\n",
       "\t Charmander & Fire  & 39 & 52 & 0 & -1.1801071 & -0.8765852\\\\\n",
       "\t ⋮ & ⋮ & ⋮ & ⋮ & ⋮ & ⋮ & ⋮\\\\\n",
       "\t Spectrier            & Ghost   & 100 & 65 & 1 & 1.149101 & -0.47710603\\\\\n",
       "\t Calyrex              & Psychic & 100 & 80 & 1 & 1.149101 & -0.01616854\\\\\n",
       "\t Calyrex Shadow Rider & Psychic & 100 & 85 & 1 & 1.149101 &  0.13747728\\\\\n",
       "\\end{tabular}\n"
      ],
      "text/markdown": [
       "\n",
       "A tibble: 773 × 7\n",
       "\n",
       "| Name &lt;chr&gt; | Type 1 &lt;chr&gt; | HP &lt;dbl&gt; | Att &lt;dbl&gt; | Final Evolution &lt;dbl&gt; | scaled_HP &lt;dbl[,1]&gt; | scaled_Att &lt;dbl[,1]&gt; |\n",
       "|---|---|---|---|---|---|---|\n",
       "| Bulbasaur  | Grass | 45 | 49 | 0 | -0.9510046 | -0.9687727 |\n",
       "| Ivysaur    | Grass | 60 | 62 | 0 | -0.3782485 | -0.5692935 |\n",
       "| Charmander | Fire  | 39 | 52 | 0 | -1.1801071 | -0.8765852 |\n",
       "| ⋮ | ⋮ | ⋮ | ⋮ | ⋮ | ⋮ | ⋮ |\n",
       "| Spectrier            | Ghost   | 100 | 65 | 1 | 1.149101 | -0.47710603 |\n",
       "| Calyrex              | Psychic | 100 | 80 | 1 | 1.149101 | -0.01616854 |\n",
       "| Calyrex Shadow Rider | Psychic | 100 | 85 | 1 | 1.149101 |  0.13747728 |\n",
       "\n"
      ],
      "text/plain": [
       "    Name                 Type 1  HP  Att Final Evolution scaled_HP  scaled_Att \n",
       "1   Bulbasaur            Grass   45  49  0               -0.9510046 -0.9687727 \n",
       "2   Ivysaur              Grass   60  62  0               -0.3782485 -0.5692935 \n",
       "3   Charmander           Fire    39  52  0               -1.1801071 -0.8765852 \n",
       "⋮   ⋮                    ⋮       ⋮   ⋮   ⋮               ⋮          ⋮          \n",
       "771 Spectrier            Ghost   100 65  1               1.149101   -0.47710603\n",
       "772 Calyrex              Psychic 100 80  1               1.149101   -0.01616854\n",
       "773 Calyrex Shadow Rider Psychic 100 85  1               1.149101    0.13747728"
      ]
     },
     "metadata": {},
     "output_type": "display_data"
    },
    {
     "data": {
      "text/html": [
       "<table class=\"dataframe\">\n",
       "<caption>A tibble: 259 × 7</caption>\n",
       "<thead>\n",
       "\t<tr><th scope=col>Name</th><th scope=col>Type 1</th><th scope=col>HP</th><th scope=col>Att</th><th scope=col>Final Evolution</th><th scope=col>scaled_HP</th><th scope=col>scaled_Att</th></tr>\n",
       "\t<tr><th scope=col>&lt;chr&gt;</th><th scope=col>&lt;chr&gt;</th><th scope=col>&lt;dbl&gt;</th><th scope=col>&lt;dbl&gt;</th><th scope=col>&lt;dbl&gt;</th><th scope=col>&lt;dbl[,1]&gt;</th><th scope=col>&lt;dbl[,1]&gt;</th></tr>\n",
       "</thead>\n",
       "<tbody>\n",
       "\t<tr><td>Charmeleon</td><td>Fire  </td><td>58</td><td>64</td><td>0</td><td>-0.4546160</td><td>-0.5078352</td></tr>\n",
       "\t<tr><td>Charizard </td><td>Fire  </td><td>78</td><td>84</td><td>1</td><td> 0.3090589</td><td> 0.1067481</td></tr>\n",
       "\t<tr><td>Pidgey    </td><td>Normal</td><td>40</td><td>45</td><td>0</td><td>-1.1419233</td><td>-1.0916893</td></tr>\n",
       "\t<tr><td>⋮</td><td>⋮</td><td>⋮</td><td>⋮</td><td>⋮</td><td>⋮</td><td>⋮</td></tr>\n",
       "\t<tr><td>Zacian           </td><td>Fairy  </td><td> 92</td><td>130</td><td>1</td><td>0.8436313</td><td>1.5202897</td></tr>\n",
       "\t<tr><td>Regidrago        </td><td>Dragon </td><td>200</td><td>100</td><td>1</td><td>4.9674757</td><td>0.5984148</td></tr>\n",
       "\t<tr><td>Calyrex Ice Rider</td><td>Psychic</td><td>100</td><td>165</td><td>1</td><td>1.1491013</td><td>2.5958105</td></tr>\n",
       "</tbody>\n",
       "</table>\n"
      ],
      "text/latex": [
       "A tibble: 259 × 7\n",
       "\\begin{tabular}{lllllll}\n",
       " Name & Type 1 & HP & Att & Final Evolution & scaled\\_HP & scaled\\_Att\\\\\n",
       " <chr> & <chr> & <dbl> & <dbl> & <dbl> & <dbl{[},1{]}> & <dbl{[},1{]}>\\\\\n",
       "\\hline\n",
       "\t Charmeleon & Fire   & 58 & 64 & 0 & -0.4546160 & -0.5078352\\\\\n",
       "\t Charizard  & Fire   & 78 & 84 & 1 &  0.3090589 &  0.1067481\\\\\n",
       "\t Pidgey     & Normal & 40 & 45 & 0 & -1.1419233 & -1.0916893\\\\\n",
       "\t ⋮ & ⋮ & ⋮ & ⋮ & ⋮ & ⋮ & ⋮\\\\\n",
       "\t Zacian            & Fairy   &  92 & 130 & 1 & 0.8436313 & 1.5202897\\\\\n",
       "\t Regidrago         & Dragon  & 200 & 100 & 1 & 4.9674757 & 0.5984148\\\\\n",
       "\t Calyrex Ice Rider & Psychic & 100 & 165 & 1 & 1.1491013 & 2.5958105\\\\\n",
       "\\end{tabular}\n"
      ],
      "text/markdown": [
       "\n",
       "A tibble: 259 × 7\n",
       "\n",
       "| Name &lt;chr&gt; | Type 1 &lt;chr&gt; | HP &lt;dbl&gt; | Att &lt;dbl&gt; | Final Evolution &lt;dbl&gt; | scaled_HP &lt;dbl[,1]&gt; | scaled_Att &lt;dbl[,1]&gt; |\n",
       "|---|---|---|---|---|---|---|\n",
       "| Charmeleon | Fire   | 58 | 64 | 0 | -0.4546160 | -0.5078352 |\n",
       "| Charizard  | Fire   | 78 | 84 | 1 |  0.3090589 |  0.1067481 |\n",
       "| Pidgey     | Normal | 40 | 45 | 0 | -1.1419233 | -1.0916893 |\n",
       "| ⋮ | ⋮ | ⋮ | ⋮ | ⋮ | ⋮ | ⋮ |\n",
       "| Zacian            | Fairy   |  92 | 130 | 1 | 0.8436313 | 1.5202897 |\n",
       "| Regidrago         | Dragon  | 200 | 100 | 1 | 4.9674757 | 0.5984148 |\n",
       "| Calyrex Ice Rider | Psychic | 100 | 165 | 1 | 1.1491013 | 2.5958105 |\n",
       "\n"
      ],
      "text/plain": [
       "    Name              Type 1  HP  Att Final Evolution scaled_HP  scaled_Att\n",
       "1   Charmeleon        Fire    58  64  0               -0.4546160 -0.5078352\n",
       "2   Charizard         Fire    78  84  1                0.3090589  0.1067481\n",
       "3   Pidgey            Normal  40  45  0               -1.1419233 -1.0916893\n",
       "⋮   ⋮                 ⋮       ⋮   ⋮   ⋮               ⋮          ⋮         \n",
       "257 Zacian            Fairy    92 130 1               0.8436313  1.5202897 \n",
       "258 Regidrago         Dragon  200 100 1               4.9674757  0.5984148 \n",
       "259 Calyrex Ice Rider Psychic 100 165 1               1.1491013  2.5958105 "
      ]
     },
     "metadata": {},
     "output_type": "display_data"
    }
   ],
   "source": [
    "# Don't remove this\n",
    "set.seed(20)\n",
    "\n",
    "# Randomly take 75% of the data in the training set. \n",
    "\n",
    "pokemon_split <- initial_split(question_data, prop = 0.75, strata = `Final Evolution`)  \n",
    "pokemon_train <- training(pokemon_split)   \n",
    "pokemon_test <- testing(pokemon_split)\n",
    "\n",
    "pokemon_train\n",
    "pokemon_test"
   ]
  },
  {
   "cell_type": "markdown",
   "id": "40126e1b-221c-4ed9-99ef-8ddd7989c0bc",
   "metadata": {},
   "source": [
    "**Section 2: Methods**\n",
    "\n",
    "We plan to use classification to predict whether a Pokemon is a final evolution or not using k-nearest-neighbors. We will use Scaled_BST and Scaled_Attack (any base stat would work for this prediction) as our predictive variables.\n",
    "\n",
    "One way we could visualize our results is very similar to the scatter plot we showed above. We create a plot chart, and we use the k-nearest-neighbors method to predict the outcome we want to know, and we compare our observations of the graph with the output of the k-neighbors method to get the conclusion of our observations."
   ]
  },
  {
   "cell_type": "markdown",
   "id": "fbd2f96a-c188-4a04-bfc2-86a308f57f34",
   "metadata": {},
   "source": [
    "**Section 3: Outcomes and Significance**\n",
    "\n",
    "(insert what do you expect to find)\n",
    "We expect to find the relationship between BST,Attack, and final evolution status. This will show if there is a trend for final evolutions to have different BST and Attack scores, and how they could be used to determine a final evolution status of an unknown pokemon.\n",
    "\n",
    "\n",
    "(insert what impact could such findings have)\n",
    "This would allow pokemon to be identified and classified with limited information, and also give game devolopers an easier time creating pokemon as they can come up with stats and be told the final evolution status.\n",
    "\n",
    "(insert what future questions this could lead to)\n",
    "This data analysis could lead to future questions such as:\n",
    "\n",
    "What does the final evolution status look like divided by pokemon type?\n",
    "\n",
    "Do different types have different BST and attack scores that could be used to determine not only evolution status, but also tye?\n",
    "\n",
    "What components of BST have the biggest impact on the score and final evolution status?\n"
   ]
  },
  {
   "cell_type": "code",
   "execution_count": null,
   "id": "1646d70b-d1c1-4278-8932-1a7b12e27ef1",
   "metadata": {
    "vscode": {
     "languageId": "r"
    }
   },
   "outputs": [],
   "source": []
  }
 ],
 "metadata": {
  "kernelspec": {
   "display_name": "R",
   "language": "R",
   "name": "ir"
  },
  "language_info": {
   "codemirror_mode": "r",
   "file_extension": ".r",
   "mimetype": "text/x-r-source",
   "name": "R",
   "pygments_lexer": "r",
   "version": "4.3.1"
  }
 },
 "nbformat": 4,
 "nbformat_minor": 5
}
